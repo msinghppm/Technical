{
 "cells": [
  {
   "cell_type": "code",
   "execution_count": 12,
   "metadata": {},
   "outputs": [
    {
     "name": "stdout",
     "output_type": "stream",
     "text": [
      "dict_items([('red', 3), ('blue', 2), ('black', 1), ('yellow', 1), ('white', 2), ('green', 2), ('purple', 1), ('majenta', 1)])\n"
     ]
    }
   ],
   "source": [
    "#First question:  Finding the amount of duplicte #'s in a set or something similar -with timing constraints.   \n",
    "#For example: There are X # of colors but some of them can be repeated- which are the one that comes last?  \n",
    "#(based on names of the colors)  How many times does that color occur? \n",
    "#The ones that have the most frequency and sort them by name- give us the ones that are very simple if no time complexity \n",
    "#involved- write basic code but the solution needs to be one of the fastest solutions- how do you optimize your code to run \n",
    "#faster ; should not take more than X second to solve.  Testing for how you optimize the code to run \n",
    "\n",
    "from collections import Counter\n",
    "\n",
    "colors = ['red', 'blue', 'black', 'red', 'yellow', 'white', 'green', 'green', 'purple', 'majenta', 'red', 'blue', 'white']\n",
    "\n",
    "counts = Counter(colors)\n",
    "\n",
    "print(counts.items())"
   ]
  },
  {
   "cell_type": "markdown",
   "metadata": {},
   "source": []
  },
  {
   "cell_type": "code",
   "execution_count": 69,
   "metadata": {},
   "outputs": [
    {
     "name": "stdout",
     "output_type": "stream",
     "text": [
      "[['iamav'], [3]]\n",
      "[['amave'], [3]]\n",
      "[['maver'], [2]]\n",
      "[['avery'], [2]]\n",
      "[['veryg'], [1]]\n",
      "[['erygo'], [2]]\n",
      "[['rygoo'], [2]]\n",
      "[['ygood'], [2]]\n",
      "[['goodb'], [2]]\n",
      "[['oodbo'], [3]]\n",
      "[['odboy'], [2]]\n",
      "[['dboys'], [1]]\n",
      "[['boyso'], [2]]\n",
      "[['oysom'], [2]]\n",
      "[['ysome'], [2]]\n",
      "[['somet'], [2]]\n",
      "[['ometi'], [3]]\n",
      "[['metim'], [2]]\n",
      "[['etime'], [3]]\n",
      "[['times'], [2]]\n",
      "[['imesb'], [2]]\n",
      "[['mesbu'], [2]]\n",
      "[['esbut'], [2]]\n",
      "[['sbuto'], [2]]\n",
      "[['butot'], [2]]\n",
      "[['utoth'], [2]]\n",
      "[['tothe'], [2]]\n",
      "[['other'], [2]]\n",
      "[['thert'], [1]]\n",
      "[['herti'], [2]]\n",
      "[['ertim'], [2]]\n",
      "[['rtime'], [2]]\n",
      "[['times'], [2]]\n",
      "[['imesm'], [2]]\n",
      "[['mesma'], [2]]\n",
      "[['esmay'], [2]]\n",
      "[['smayb'], [1]]\n",
      "[['maybe'], [2]]\n",
      "[['ayben'], [2]]\n",
      "[['ybeno'], [2]]\n",
      "[['benot'], [2]]\n"
     ]
    }
   ],
   "source": [
    "#Second question: May take two minutes or more- Example: you have a a string with X number of characters and within that\n",
    "#string you have 20 characters. Look at every 5th combination and which one has the most number of vowels\n",
    "#(this is just an example) String can be any length import operator\n",
    "import pandas as pd\n",
    "\n",
    "rand_str = \"iamaverygoodboysometimesbutothertimesmaybenot\"\n",
    "\n",
    "for i in range(len(rand_str)-4): \n",
    "    sub_str = rand_str[i:i+5] \n",
    "    vowel = set(\"aeiou\") \n",
    "    count = 0 \n",
    "    substrp = [] \n",
    "    counts = []\n",
    "    for alphabet in sub_str:\n",
    "        if alphabet in vowel:\n",
    "            count = count + 1\n",
    "    substrp.append(sub_str)\n",
    "    counts.append(count)\n",
    "    columns = [substrp, counts]\n",
    "    print(columns)"
   ]
  },
  {
   "cell_type": "code",
   "execution_count": 125,
   "metadata": {},
   "outputs": [
    {
     "name": "stdout",
     "output_type": "stream",
     "text": [
      "left side blow 1\n",
      "left side blow 2\n",
      "left side blow 3\n",
      "left side blow 4\n",
      "right side blow 1\n",
      "right side blow 2\n",
      "right side blow 3\n",
      "right side blow 4\n"
     ]
    }
   ],
   "source": [
    "#Rumble in Tokyo\n",
    "\n",
    "def getMinimumBlows(height, side):\n",
    "    count = 0\n",
    "    for position, character in enumerate(height): \n",
    "        sub_str = height[position+1:]\n",
    "        #print(sub_str)\n",
    "        charp = character\n",
    "        if position != (len(height)-1):\n",
    "            charn = height[position+1]\n",
    "            #print(charp, charn)\n",
    "            if charp > charn:\n",
    "                count = count + 1\n",
    "                print(side, count)\n",
    "        \n",
    "\n",
    "height = [1,2,3,4,3,2,3,2,1]\n",
    "getMinimumBlows(height, \"left side blow\")\n",
    "height = height[::-1]\n",
    "getMinimumBlows(height, \"right side blow\")\n",
    "\n"
   ]
  },
  {
   "cell_type": "code",
   "execution_count": null,
   "metadata": {},
   "outputs": [],
   "source": []
  }
 ],
 "metadata": {
  "kernelspec": {
   "display_name": "Python 3",
   "language": "python",
   "name": "python3"
  },
  "language_info": {
   "codemirror_mode": {
    "name": "ipython",
    "version": 3
   },
   "file_extension": ".py",
   "mimetype": "text/x-python",
   "name": "python",
   "nbconvert_exporter": "python",
   "pygments_lexer": "ipython3",
   "version": "3.7.7"
  }
 },
 "nbformat": 4,
 "nbformat_minor": 4
}
